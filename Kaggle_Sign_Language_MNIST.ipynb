{
  "nbformat": 4,
  "nbformat_minor": 0,
  "metadata": {
    "colab": {
      "name": "Kaggle_Sign Language MNIST.ipynb",
      "provenance": []
    },
    "kernelspec": {
      "name": "python3",
      "display_name": "Python 3"
    },
    "accelerator": "GPU"
  },
  "cells": [
    {
      "cell_type": "code",
      "metadata": {
        "colab": {
          "base_uri": "https://localhost:8080/"
        },
        "id": "53a5kkeQ2ey4",
        "outputId": "2745a410-3ef5-4eef-9a69-b72df47dfc54"
      },
      "source": [
        "from google.colab import drive\r\n",
        "import os\r\n",
        "\r\n",
        "drive.mount(\"/content/gdrive\")"
      ],
      "execution_count": 2,
      "outputs": [
        {
          "output_type": "stream",
          "text": [
            "Mounted at /content/gdrive\n"
          ],
          "name": "stdout"
        }
      ]
    },
    {
      "cell_type": "code",
      "metadata": {
        "id": "AVgR-aaC2r19"
      },
      "source": [
        "os.mkdir(\"/content/Hand_gesture\")"
      ],
      "execution_count": 4,
      "outputs": []
    },
    {
      "cell_type": "code",
      "metadata": {
        "colab": {
          "base_uri": "https://localhost:8080/"
        },
        "id": "ma_5fIes2r5g",
        "outputId": "b2a7e5ef-4305-455b-b925-232ebe89dcab"
      },
      "source": [
        "!unzip \"/content/gdrive/MyDrive/archive.zip\" -d \"/content/Hand_gesture\""
      ],
      "execution_count": 6,
      "outputs": [
        {
          "output_type": "stream",
          "text": [
            "Archive:  /content/gdrive/MyDrive/archive.zip\n",
            "  inflating: /content/Hand_gesture/amer_sign2.png  \n",
            "  inflating: /content/Hand_gesture/amer_sign3.png  \n",
            "  inflating: /content/Hand_gesture/american_sign_language.PNG  \n",
            "  inflating: /content/Hand_gesture/sign_mnist_test.csv  \n",
            "  inflating: /content/Hand_gesture/sign_mnist_test/sign_mnist_test.csv  \n",
            "  inflating: /content/Hand_gesture/sign_mnist_train.csv  \n",
            "  inflating: /content/Hand_gesture/sign_mnist_train/sign_mnist_train.csv  \n"
          ],
          "name": "stdout"
        }
      ]
    },
    {
      "cell_type": "code",
      "metadata": {
        "id": "AJ-uMJPwIKiq"
      },
      "source": [
        "file= csv.reader(\"/content/Hand_gesture/sign_mnist_test/sign_mnist_test.csv\",delimiter=\",\")\r\n"
      ],
      "execution_count": 92,
      "outputs": []
    },
    {
      "cell_type": "code",
      "metadata": {
        "id": "I5hd39h7IY5S"
      },
      "source": [
        "for rows in file:\r\n",
        "  print(rows)"
      ],
      "execution_count": 95,
      "outputs": []
    },
    {
      "cell_type": "code",
      "metadata": {
        "id": "9gnSWOjc3Vh8"
      },
      "source": [
        "import csv\r\n",
        "import pandas as pd\r\n",
        "import numpy as np\r\n",
        "\r\n",
        "\r\n",
        "file= pd.read_csv(\"/content/Hand_gesture/sign_mnist_test/sign_mnist_test.csv\",delimiter=\",\")\r\n",
        "labels=[]\r\n",
        "images=[]\r\n",
        "for i in range(len(file)):\r\n",
        "  labels.append(file.loc[i][0])\r\n",
        "  images.append(file.loc[i][1:])\r\n",
        "test_label=np.asarray(labels).astype(\"float32\")\r\n",
        "image=np.asarray(images).astype(\"float32\")\r\n",
        "test_image=image.reshape(image.shape[0],28,28)"
      ],
      "execution_count": 120,
      "outputs": []
    },
    {
      "cell_type": "code",
      "metadata": {
        "id": "Sxizm8OQ53wD"
      },
      "source": [
        "file= pd.read_csv(\"/content/Hand_gesture/sign_mnist_train/sign_mnist_train.csv\",delimiter=\",\")\r\n",
        "labels=[]\r\n",
        "images=[]\r\n",
        "for i in range(len(file)):\r\n",
        "  labels.append(file.loc[i][0])\r\n",
        "  images.append(file.loc[i][1:])\r\n",
        "train_label=np.asarray(labels).astype(\"float32\")\r\n",
        "image=np.asarray(images).astype(\"float32\")\r\n",
        "train_image=image.reshape(image.shape[0],28,28)"
      ],
      "execution_count": 121,
      "outputs": []
    },
    {
      "cell_type": "code",
      "metadata": {
        "id": "J1W96j_s6Hjg"
      },
      "source": [
        "import tensorflow\r\n",
        "from tensorflow.keras.preprocessing.image import ImageDataGenerator"
      ],
      "execution_count": 122,
      "outputs": []
    },
    {
      "cell_type": "code",
      "metadata": {
        "id": "2tOxW_nN6v_1"
      },
      "source": [
        "train_gen=ImageDataGenerator(rescale=1/255,rotation_range=0.2,width_shift_range=0.3,height_shift_range=0.2,zoom_range=0.2,fill_mode=\"nearest\",horizontal_flip=True)\r\n",
        "val_gen=ImageDataGenerator(rescale=1/255)"
      ],
      "execution_count": 123,
      "outputs": []
    },
    {
      "cell_type": "code",
      "metadata": {
        "id": "_JUlTbBe9OAU"
      },
      "source": [
        "test_image=np.expand_dims(test_image,axis=3)\r\n",
        "train_image=np.expand_dims(train_image,axis=3)"
      ],
      "execution_count": 148,
      "outputs": []
    },
    {
      "cell_type": "code",
      "metadata": {
        "id": "TJtyEsRh-WpF"
      },
      "source": [
        "from tensorflow.keras.models import Sequential\r\n",
        "from tensorflow.keras.layers import Dense,Flatten,Conv2D,MaxPool2D\r\n",
        "\r\n",
        "model=Sequential()\r\n",
        "model.add(Conv2D(32,(3,3),activation=\"relu\",input_shape=(28,28,1),padding=\"same\"))\r\n",
        "model.add(MaxPool2D(2,2))\r\n",
        "\r\n",
        "model.add(Conv2D(64,(3,3),activation=\"relu\",padding=\"same\"))\r\n",
        "model.add(MaxPool2D(2,2))\r\n",
        "\r\n",
        "model.add(Conv2D(128,(3,3),activation=\"relu\",padding=\"same\"))\r\n",
        "model.add(MaxPool2D(2,2))\r\n",
        "\r\n",
        "model.add(Conv2D(512,(3,3),activation=\"relu\",padding=\"same\"))\r\n",
        "model.add(MaxPool2D(2,2,padding=\"same\"))\r\n",
        "\r\n",
        "model.add(Flatten())\r\n",
        "model.add(Dense(256,activation=\"relu\"))\r\n",
        "model.add(Dense(26,activation=\"softmax\"))"
      ],
      "execution_count": 146,
      "outputs": []
    },
    {
      "cell_type": "code",
      "metadata": {
        "id": "1lVf6BU0_jbw"
      },
      "source": [
        "model.compile(optimizer=\"rmsprop\",loss=\"sparse_categorical_crossentropy\",metrics=[\"acc\"])"
      ],
      "execution_count": 150,
      "outputs": []
    },
    {
      "cell_type": "code",
      "metadata": {
        "colab": {
          "base_uri": "https://localhost:8080/"
        },
        "id": "it1fAgULATQS",
        "outputId": "c334763f-d573-42b8-dbb3-ddffe58b405e"
      },
      "source": [
        "history=model.fit_generator(train_gen.flow(train_image,train_label,batch_size=32),\r\n",
        "                            epochs=15,verbose=1,validation_data=val_gen.flow(test_image,test_label,batch_size=32))"
      ],
      "execution_count": 151,
      "outputs": [
        {
          "output_type": "stream",
          "text": [
            "/usr/local/lib/python3.6/dist-packages/tensorflow/python/keras/engine/training.py:1844: UserWarning: `Model.fit_generator` is deprecated and will be removed in a future version. Please use `Model.fit`, which supports generators.\n",
            "  warnings.warn('`Model.fit_generator` is deprecated and '\n"
          ],
          "name": "stderr"
        },
        {
          "output_type": "stream",
          "text": [
            "Epoch 1/15\n",
            "858/858 [==============================] - 10s 11ms/step - loss: 2.9378 - acc: 0.1110 - val_loss: 1.3947 - val_acc: 0.4343\n",
            "Epoch 2/15\n",
            "858/858 [==============================] - 9s 11ms/step - loss: 1.2272 - acc: 0.5819 - val_loss: 0.3517 - val_acc: 0.8649\n",
            "Epoch 3/15\n",
            "858/858 [==============================] - 9s 11ms/step - loss: 0.5257 - acc: 0.8170 - val_loss: 0.1100 - val_acc: 0.9709\n",
            "Epoch 4/15\n",
            "858/858 [==============================] - 9s 11ms/step - loss: 0.3028 - acc: 0.8970 - val_loss: 0.1200 - val_acc: 0.9624\n",
            "Epoch 5/15\n",
            "858/858 [==============================] - 9s 11ms/step - loss: 0.2116 - acc: 0.9305 - val_loss: 0.0845 - val_acc: 0.9710\n",
            "Epoch 6/15\n",
            "858/858 [==============================] - 9s 11ms/step - loss: 0.1657 - acc: 0.9456 - val_loss: 0.0225 - val_acc: 0.9940\n",
            "Epoch 7/15\n",
            "858/858 [==============================] - 10s 11ms/step - loss: 0.1438 - acc: 0.9532 - val_loss: 0.0361 - val_acc: 0.9848\n",
            "Epoch 8/15\n",
            "858/858 [==============================] - 9s 11ms/step - loss: 0.1276 - acc: 0.9593 - val_loss: 0.0018 - val_acc: 0.9997\n",
            "Epoch 9/15\n",
            "858/858 [==============================] - 10s 11ms/step - loss: 0.1185 - acc: 0.9650 - val_loss: 0.0045 - val_acc: 0.9994\n",
            "Epoch 10/15\n",
            "858/858 [==============================] - 10s 11ms/step - loss: 0.1157 - acc: 0.9659 - val_loss: 0.0168 - val_acc: 0.9946\n",
            "Epoch 11/15\n",
            "858/858 [==============================] - 9s 11ms/step - loss: 0.0982 - acc: 0.9718 - val_loss: 0.0050 - val_acc: 0.9980\n",
            "Epoch 12/15\n",
            "858/858 [==============================] - 9s 11ms/step - loss: 0.1071 - acc: 0.9700 - val_loss: 0.0235 - val_acc: 0.9939\n",
            "Epoch 13/15\n",
            "858/858 [==============================] - 9s 11ms/step - loss: 0.1083 - acc: 0.9712 - val_loss: 0.0336 - val_acc: 0.9923\n",
            "Epoch 14/15\n",
            "858/858 [==============================] - 9s 11ms/step - loss: 0.1010 - acc: 0.9721 - val_loss: 0.0341 - val_acc: 0.9932\n",
            "Epoch 15/15\n",
            "858/858 [==============================] - 9s 11ms/step - loss: 0.1196 - acc: 0.9707 - val_loss: 0.0620 - val_acc: 0.9835\n"
          ],
          "name": "stdout"
        }
      ]
    },
    {
      "cell_type": "code",
      "metadata": {
        "id": "KFQFiloXCqAc"
      },
      "source": [
        "train_acc=history.history[\"acc\"]\r\n",
        "epoch=range(len(train_acc))\r\n",
        "\r\n",
        "test_acc=history.history[\"val_acc\"]\r\n",
        "\r\n",
        "train_loss=history.history[\"loss\"]\r\n",
        "\r\n",
        "test_loss=history.history[\"val_loss\"]\r\n",
        "\r\n"
      ],
      "execution_count": 154,
      "outputs": []
    },
    {
      "cell_type": "code",
      "metadata": {
        "colab": {
          "base_uri": "https://localhost:8080/",
          "height": 282
        },
        "id": "-Ew4KcM8MJfE",
        "outputId": "73d86cf7-1d16-463e-bfaf-d176bc17c39e"
      },
      "source": [
        "import matplotlib.pyplot as plt\r\n",
        "\r\n",
        "plt.plot(epoch,train_acc,label=\"train_acc\")\r\n",
        "plt.plot(epoch,test_acc,label=\"test_acc\")\r\n",
        "plt.legend()"
      ],
      "execution_count": 156,
      "outputs": [
        {
          "output_type": "execute_result",
          "data": {
            "text/plain": [
              "<matplotlib.legend.Legend at 0x7f3edc27f160>"
            ]
          },
          "metadata": {
            "tags": []
          },
          "execution_count": 156
        },
        {
          "output_type": "display_data",
          "data": {
            "image/png": "[encoded data removed]",
            "text/plain": [
              "<Figure size 432x288 with 1 Axes>"
            ]
          },
          "metadata": {
            "tags": [],
            "needs_background": "light"
          }
        }
      ]
    },
    {
      "cell_type": "code",
      "metadata": {
        "colab": {
          "base_uri": "https://localhost:8080/",
          "height": 282
        },
        "id": "v5qP6mIbMcVn",
        "outputId": "669dca89-147f-42fa-8f5f-9d57c260235b"
      },
      "source": [
        "plt.figure()\r\n",
        "\r\n",
        "plt.plot(epoch,train_loss,label=\"train_loss\")\r\n",
        "plt.plot(epoch,test_loss,label=\"test_loss\")\r\n",
        "plt.legend()"
      ],
      "execution_count": 157,
      "outputs": [
        {
          "output_type": "execute_result",
          "data": {
            "text/plain": [
              "<matplotlib.legend.Legend at 0x7f3edd803898>"
            ]
          },
          "metadata": {
            "tags": []
          },
          "execution_count": 157
        },
        {
          "output_type": "display_data",
          "data": {
            "image/png": "[encoded data removed]",
            "text/plain": [
              "<Figure size 432x288 with 1 Axes>"
            ]
          },
          "metadata": {
            "tags": [],
            "needs_background": "light"
          }
        }
      ]
    }
  ]
}